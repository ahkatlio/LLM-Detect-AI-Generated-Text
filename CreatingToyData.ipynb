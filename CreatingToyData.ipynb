{
 "cells": [
  {
   "cell_type": "code",
   "execution_count": 1,
   "metadata": {},
   "outputs": [],
   "source": [
    "import pandas as pd"
   ]
  },
  {
   "cell_type": "code",
   "execution_count": 2,
   "metadata": {},
   "outputs": [
    {
     "data": {
      "text/html": [
       "<div>\n",
       "<style scoped>\n",
       "    .dataframe tbody tr th:only-of-type {\n",
       "        vertical-align: middle;\n",
       "    }\n",
       "\n",
       "    .dataframe tbody tr th {\n",
       "        vertical-align: top;\n",
       "    }\n",
       "\n",
       "    .dataframe thead th {\n",
       "        text-align: right;\n",
       "    }\n",
       "</style>\n",
       "<table border=\"1\" class=\"dataframe\">\n",
       "  <thead>\n",
       "    <tr style=\"text-align: right;\">\n",
       "      <th></th>\n",
       "      <th>id</th>\n",
       "      <th>prompt_id</th>\n",
       "      <th>text</th>\n",
       "      <th>generated</th>\n",
       "    </tr>\n",
       "  </thead>\n",
       "  <tbody>\n",
       "    <tr>\n",
       "      <th>0</th>\n",
       "      <td>0059830c</td>\n",
       "      <td>0</td>\n",
       "      <td>Cars. Cars have been around since they became ...</td>\n",
       "      <td>0</td>\n",
       "    </tr>\n",
       "    <tr>\n",
       "      <th>1</th>\n",
       "      <td>005db917</td>\n",
       "      <td>0</td>\n",
       "      <td>Transportation is a large necessity in most co...</td>\n",
       "      <td>0</td>\n",
       "    </tr>\n",
       "    <tr>\n",
       "      <th>2</th>\n",
       "      <td>008f63e3</td>\n",
       "      <td>0</td>\n",
       "      <td>\"America's love affair with it's vehicles seem...</td>\n",
       "      <td>0</td>\n",
       "    </tr>\n",
       "    <tr>\n",
       "      <th>3</th>\n",
       "      <td>00940276</td>\n",
       "      <td>0</td>\n",
       "      <td>How often do you ride in a car? Do you drive a...</td>\n",
       "      <td>0</td>\n",
       "    </tr>\n",
       "    <tr>\n",
       "      <th>4</th>\n",
       "      <td>00c39458</td>\n",
       "      <td>0</td>\n",
       "      <td>Cars are a wonderful thing. They are perhaps o...</td>\n",
       "      <td>0</td>\n",
       "    </tr>\n",
       "    <tr>\n",
       "      <th>...</th>\n",
       "      <td>...</td>\n",
       "      <td>...</td>\n",
       "      <td>...</td>\n",
       "      <td>...</td>\n",
       "    </tr>\n",
       "    <tr>\n",
       "      <th>1373</th>\n",
       "      <td>fe6ff9a5</td>\n",
       "      <td>1</td>\n",
       "      <td>There has been a fuss about the Elector Colleg...</td>\n",
       "      <td>0</td>\n",
       "    </tr>\n",
       "    <tr>\n",
       "      <th>1374</th>\n",
       "      <td>ff669174</td>\n",
       "      <td>0</td>\n",
       "      <td>Limiting car usage has many advantages. Such a...</td>\n",
       "      <td>0</td>\n",
       "    </tr>\n",
       "    <tr>\n",
       "      <th>1375</th>\n",
       "      <td>ffa247e0</td>\n",
       "      <td>0</td>\n",
       "      <td>There's a new trend that has been developing f...</td>\n",
       "      <td>0</td>\n",
       "    </tr>\n",
       "    <tr>\n",
       "      <th>1376</th>\n",
       "      <td>ffc237e9</td>\n",
       "      <td>0</td>\n",
       "      <td>As we all know cars are a big part of our soci...</td>\n",
       "      <td>0</td>\n",
       "    </tr>\n",
       "    <tr>\n",
       "      <th>1377</th>\n",
       "      <td>ffe1ca0d</td>\n",
       "      <td>0</td>\n",
       "      <td>Cars have been around since the 1800's and hav...</td>\n",
       "      <td>0</td>\n",
       "    </tr>\n",
       "  </tbody>\n",
       "</table>\n",
       "<p>1378 rows × 4 columns</p>\n",
       "</div>"
      ],
      "text/plain": [
       "            id  prompt_id                                               text  \\\n",
       "0     0059830c          0  Cars. Cars have been around since they became ...   \n",
       "1     005db917          0  Transportation is a large necessity in most co...   \n",
       "2     008f63e3          0  \"America's love affair with it's vehicles seem...   \n",
       "3     00940276          0  How often do you ride in a car? Do you drive a...   \n",
       "4     00c39458          0  Cars are a wonderful thing. They are perhaps o...   \n",
       "...        ...        ...                                                ...   \n",
       "1373  fe6ff9a5          1  There has been a fuss about the Elector Colleg...   \n",
       "1374  ff669174          0  Limiting car usage has many advantages. Such a...   \n",
       "1375  ffa247e0          0  There's a new trend that has been developing f...   \n",
       "1376  ffc237e9          0  As we all know cars are a big part of our soci...   \n",
       "1377  ffe1ca0d          0  Cars have been around since the 1800's and hav...   \n",
       "\n",
       "      generated  \n",
       "0             0  \n",
       "1             0  \n",
       "2             0  \n",
       "3             0  \n",
       "4             0  \n",
       "...         ...  \n",
       "1373          0  \n",
       "1374          0  \n",
       "1375          0  \n",
       "1376          0  \n",
       "1377          0  \n",
       "\n",
       "[1378 rows x 4 columns]"
      ]
     },
     "execution_count": 2,
     "metadata": {},
     "output_type": "execute_result"
    }
   ],
   "source": [
    "# Load the data\n",
    "df = pd.read_csv('Data/train_essays/train_essays.csv')\n",
    "\n",
    "# Display the data\n",
    "df"
   ]
  },
  {
   "cell_type": "code",
   "execution_count": 3,
   "metadata": {},
   "outputs": [
    {
     "data": {
      "text/html": [
       "<div>\n",
       "<style scoped>\n",
       "    .dataframe tbody tr th:only-of-type {\n",
       "        vertical-align: middle;\n",
       "    }\n",
       "\n",
       "    .dataframe tbody tr th {\n",
       "        vertical-align: top;\n",
       "    }\n",
       "\n",
       "    .dataframe thead th {\n",
       "        text-align: right;\n",
       "    }\n",
       "</style>\n",
       "<table border=\"1\" class=\"dataframe\">\n",
       "  <thead>\n",
       "    <tr style=\"text-align: right;\">\n",
       "      <th></th>\n",
       "      <th>prompt_id</th>\n",
       "      <th>prompt_name</th>\n",
       "      <th>instructions</th>\n",
       "      <th>source_text</th>\n",
       "    </tr>\n",
       "  </thead>\n",
       "  <tbody>\n",
       "    <tr>\n",
       "      <th>0</th>\n",
       "      <td>0</td>\n",
       "      <td>Car-free cities</td>\n",
       "      <td>Write an explanatory essay to inform fellow ci...</td>\n",
       "      <td># In German Suburb, Life Goes On Without Cars ...</td>\n",
       "    </tr>\n",
       "    <tr>\n",
       "      <th>1</th>\n",
       "      <td>1</td>\n",
       "      <td>Does the electoral college work?</td>\n",
       "      <td>Write a letter to your state senator in which ...</td>\n",
       "      <td># What Is the Electoral College? by the Office...</td>\n",
       "    </tr>\n",
       "  </tbody>\n",
       "</table>\n",
       "</div>"
      ],
      "text/plain": [
       "   prompt_id                       prompt_name  \\\n",
       "0          0                   Car-free cities   \n",
       "1          1  Does the electoral college work?   \n",
       "\n",
       "                                        instructions  \\\n",
       "0  Write an explanatory essay to inform fellow ci...   \n",
       "1  Write a letter to your state senator in which ...   \n",
       "\n",
       "                                         source_text  \n",
       "0  # In German Suburb, Life Goes On Without Cars ...  \n",
       "1  # What Is the Electoral College? by the Office...  "
      ]
     },
     "execution_count": 3,
     "metadata": {},
     "output_type": "execute_result"
    }
   ],
   "source": [
    "# Load the data\n",
    "df_prompts = pd.read_csv('Data/train_prompts.csv')\n",
    "\n",
    "# Display the data\n",
    "df_prompts"
   ]
  },
  {
   "cell_type": "code",
   "execution_count": 4,
   "metadata": {},
   "outputs": [],
   "source": [
    "import os\n",
    "import gpt_2_simple as gpt2\n",
    "import time\n",
    "\n",
    "# Check if the model is already downloaded\n",
    "if not os.path.isdir('models/355M'):\n",
    "    # Maximum number of download attempts\n",
    "    max_attempts = 5\n",
    "\n",
    "    for attempt in range(max_attempts):\n",
    "        try:\n",
    "            gpt2.download_gpt2(model_name=\"355M\")\n",
    "            break  # If the download is successful, break the loop\n",
    "        except Exception as e:\n",
    "            print(f\"Download attempt {attempt + 1} failed. Retrying in 5 seconds...\")\n",
    "            time.sleep(5)  # Wait for 5 seconds before the next attempt\n",
    "else:\n",
    "    print(\"Model already downloaded.\")"
   ]
  },
  {
   "cell_type": "code",
   "execution_count": null,
   "metadata": {},
   "outputs": [
    {
     "name": "stdout",
     "output_type": "stream",
     "text": [
      "The directory models\\355M exists.\n",
      "The file model.ckpt.data-00000-of-00001 exists.\n",
      "The file model.ckpt.index exists.\n",
      "The file model.ckpt.meta exists.\n",
      "The file checkpoint exists.\n"
     ]
    }
   ],
   "source": [
    "import os\n",
    "\n",
    "model_name = \"355M\"  # replace with the name of the model you downloaded\n",
    "model_dir = os.path.join(\"models\", model_name)\n",
    "\n",
    "# Check if the model directory exists\n",
    "if os.path.exists(model_dir):\n",
    "    print(f\"The directory {model_dir} exists.\")\n",
    "    \n",
    "    # Check if the necessary files exist\n",
    "    necessary_files = [\"model.ckpt.data-00000-of-00001\", \"model.ckpt.index\", \"model.ckpt.meta\", \"checkpoint\"]\n",
    "    for file in necessary_files:\n",
    "        if os.path.exists(os.path.join(model_dir, file)):\n",
    "            print(f\"The file {file} exists.\")\n",
    "        else:\n",
    "            print(f\"The file {file} does not exist.\")\n",
    "else:\n",
    "    print(f\"The directory {model_dir} does not exist.\")"
   ]
  },
  {
   "cell_type": "code",
   "execution_count": null,
   "metadata": {},
   "outputs": [
    {
     "name": "stdout",
     "output_type": "stream",
     "text": [
      "Starting TensorFlow session...\n",
      "Loading GPT-2 model...\n",
      "Loading pretrained model models\\355M\\model.ckpt\n",
      "INFO:tensorflow:Restoring parameters from models\\355M\\model.ckpt\n",
      "Model loaded successfully.\n",
      "DataFrame for synthetic data created.\n"
     ]
    },
    {
     "name": "stderr",
     "output_type": "stream",
     "text": [
      "Generating synthetic responses:   0%|          | 0/2 [00:00<?, ?it/s]"
     ]
    },
    {
     "name": "stdout",
     "output_type": "stream",
     "text": [
      "Generating text for prompt: Write an explanatory essay to inform fellow citizens about the advantages of limiting car usage. Your essay must be based on ideas and information that can be found in the passage set. Manage your time carefully so that you can read the passages; plan your response; write your response; and revise and edit your response. Be sure to use evidence from multiple sources; and avoid overly relying on one source. Your response should be in the form of a multiparagraph essay. Write your essay in the space provided.\n"
     ]
    },
    {
     "name": "stderr",
     "output_type": "stream",
     "text": [
      "Generating synthetic responses:  50%|█████     | 1/2 [06:39<06:39, 399.57s/it]"
     ]
    },
    {
     "name": "stdout",
     "output_type": "stream",
     "text": [
      "Generated text: Write an explanatory essay to inform fellow citizens about the advantages of limiting car usage. Your essay must be based on ideas and information that can be found in the passage set. Manage your time carefully so that you can read the passages; plan your response; write your response; and revise and edit your response. Be sure to use evidence from multiple sources; and avoid overly relying on one source. Your response should be in the form of a multiparagraph essay. Write your essay in the space provided.\n",
      "\n",
      "Statement of Purpose\n",
      "\n",
      "Write a statement of purpose in case the State does not provide for basic transportation. The purpose of the Statement of Purpose should be to inform the public of the benefits of the proposed policy. The purpose of the Statement of Purpose should also be to inform the public of that the State will provide for basic transportation and to help them understand how to apply the policy to their daily lives. The purpose of the Statement of Purpose should be to inform the public about the benefits of the policy and to help them understand how to apply the policy to their daily lives. In your Statement of Purpose, include the following information: the expected benefits of the proposed policy; the ways in which the policy benefits the individual; the methods used to apply the policy; the effectiveness of the benefits; and any notes and statements you may have for future reference and interpretation. The State will give you the opportunity to provide your Statement of Purpose to your representatives at your Statewide City Council meeting. The State also will provide a copy of your Statement of Purpose to your City Council members and any other interested citizens. These documents will provide a guide for those citizens who may be considering a rally for the statement of purpose, as well as the provisions of a similar policy in other municipalities.\n",
      "\n",
      "Statement of Policy\n",
      "\n",
      "Write a statement of policy at least one page long. If you are not sure what you are writing about, use this example: \"The purpose of this policy is to provide easy access to transportation for everyone in the City.\" The purpose of this policy is to provide easy access to transportation for everyone in the City.\n",
      "\n",
      "Work Groups\n",
      "\n",
      "A work group is a group of people or individuals who would like to receive a link to your campaign materials. The work group will be interested in your policy and will be able to share their ideas with you.\n",
      "\n",
      "Readers who would like to add comments or read opinions from the working group may do so by creating an account at: http://www.lpierr.org/public/submissions/oct2016.html.\n",
      "\n",
      "Readers or others who would like to participate in drafting of the policy or writing of final policy documents should contact the State at (202) 631-2375 or at [email protected]\n",
      "\n",
      "Information for Members of the Public\n",
      "\n",
      "Please forward the following information to your officials:\n",
      "\n",
      "The following sources of information regarding the policy are available on your website:\n",
      "\n",
      "The State's campaign website: http://www.lpierr.org/public/submissions/oct2016.html\n",
      "\n",
      "The State's campaign website: http://www.lpierr.org/public/submissions/oct2016.html The City's website: http://www.lpierr.org/public/submissions/oct2016.html\n",
      "\n",
      "The City's website: http://www.lpierr.org/public/submissions/oct2016.html The State's Campaign website: http://www.lpierr.org/public/submissions/oct2016.html\n",
      "\n",
      "The State's Campaign website: http://www.lpierr.org/public/submissions/oct2016.html The City's website: http://www.lpierr.org/public/submissions/oct2016.html\n",
      "\n",
      "The State's Campaign website: http://www.lpierr.org/public/submissions/oct2016.html The City's website: http://www.lpierr.org/public/submissions/oct2016.html\n",
      "\n",
      "The City's website: http://www.lpierr.org/public/submissions/oct2016.html The Missouri statehouse website: http://www.lpierr.org/restaurant/political/\n",
      "\n",
      "The State's Campaign website: http://www.lpierr.org/restaurant/political/ The State's website: http://www.lpierr.org/restaurant/political/\n",
      "\n",
      "Your State's website: http://www.lpierr.org/public/submissions/oct2016.html\n",
      "\n",
      "Your State's website: http://www.lpierr.org/public/submissions/oct2016.html The City's website: http://www.lpierr.org/public/submissions/oct2016.html\n",
      "\n",
      "The City's website: http://www.lpierr.org/public/submissions/oct2016.html Mailing\n",
      "Generating text for prompt: Write a letter to your state senator in which you argue in favor of keeping the Electoral College or changing to election by popular vote for the president of the United States. Use the information from the texts in your essay. Manage your time carefully so that you can read the passages; plan your response; write your response; and revise and edit your response. Be sure to include a claim; address counterclaims; use evidence from multiple sources; and avoid overly relying on one source. Your response should be in the form of a multiparagraph essay. Write your response in the space provided.\n"
     ]
    }
   ],
   "source": [
    "import tqdm\n",
    "\n",
    "# Load the trained GPT-2 model\n",
    "print(\"Starting TensorFlow session...\")\n",
    "sess = gpt2.start_tf_sess()\n",
    "print(\"Loading GPT-2 model...\")\n",
    "gpt2.load_gpt2(sess, model_name='355M')\n",
    "print(\"Model loaded successfully.\")\n",
    "\n",
    "# Function to generate text\n",
    "def generate_text(prompt):\n",
    "    print(f\"Generating text for prompt: {prompt}\")\n",
    "    generated_text = gpt2.generate(sess, model_name='355M', prefix=prompt, return_as_list=True)[0]\n",
    "    print(f\"Generated text: {generated_text}\")\n",
    "    return generated_text\n",
    "\n",
    "# Create a new DataFrame to store the synthetic data\n",
    "df_synthetic = pd.DataFrame(columns=['id', 'prompt_id', 'text', 'generated'])\n",
    "print(\"DataFrame for synthetic data created.\")\n",
    "\n",
    "# Loop over the unique prompts\n",
    "for prompt_id, prompt in tqdm.tqdm(df_prompts[['prompt_id', 'instructions']].values, desc=\"Generating synthetic responses\"):\n",
    "    # Generate a synthetic response\n",
    "    text = generate_text(prompt)\n",
    "    \n",
    "    # Append the generated response to the DataFrame\n",
    "    new_data = pd.DataFrame({'id': ['synthetic'+str(prompt_id)], 'prompt_id': [prompt_id], 'text': [text], 'generated': [1]})\n",
    "    df_synthetic = pd.concat([df_synthetic, new_data], ignore_index=True)\n",
    "\n",
    "print(\"Synthetic responses generated and appended to DataFrame.\")\n",
    "\n",
    "# Save the synthetic data to a CSV file\n",
    "df_synthetic.to_csv('Data/synthetic_data.csv', index=False)\n",
    "print(\"Synthetic data saved to 'Data/synthetic_data.csv'.\")"
   ]
  },
  {
   "cell_type": "code",
   "execution_count": 1,
   "metadata": {},
   "outputs": [
    {
     "name": "stdout",
     "output_type": "stream",
     "text": [
      "Num GPUs Available:  0\n"
     ]
    }
   ],
   "source": [
    "import tensorflow as tf\n",
    "print(\"Num GPUs Available: \", len(tf.config.list_physical_devices('GPU')))"
   ]
  },
  {
   "cell_type": "code",
   "execution_count": null,
   "metadata": {},
   "outputs": [
    {
     "name": "stdout",
     "output_type": "stream",
     "text": [
      "GPU not available, using the CPU instead.\n"
     ]
    }
   ],
   "source": [
    "import torch\n",
    "\n",
    "if torch.cuda.is_available():\n",
    "    print(\"GPU is available\")\n",
    "    device = torch.device(\"cuda\")\n",
    "else:\n",
    "    print(\"GPU not available, using the CPU instead.\")\n",
    "    device = torch.device(\"cpu\")\n",
    "\n",
    "# create a tensor on GPU\n",
    "x = torch.tensor([1.0], device=device)"
   ]
  }
 ],
 "metadata": {
  "kernelspec": {
   "display_name": "Python 3",
   "language": "python",
   "name": "python3"
  },
  "language_info": {
   "codemirror_mode": {
    "name": "ipython",
    "version": 3
   },
   "file_extension": ".py",
   "mimetype": "text/x-python",
   "name": "python",
   "nbconvert_exporter": "python",
   "pygments_lexer": "ipython3",
   "version": "3.11.5"
  }
 },
 "nbformat": 4,
 "nbformat_minor": 2
}
