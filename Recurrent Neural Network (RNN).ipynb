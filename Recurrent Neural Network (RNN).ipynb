{
 "cells": [
  {
   "cell_type": "code",
   "execution_count": 8,
   "metadata": {},
   "outputs": [],
   "source": [
    "import time\n",
    "from tqdm import tqdm\n",
    "import pandas as pd\n",
    "from nltk.corpus import stopwords\n",
    "from nltk.stem import WordNetLemmatizer\n",
    "from nltk.tokenize import word_tokenize\n",
    "import nltk\n",
    "import tensorflow as tf\n",
    "from gensim.models import Word2Vec\n",
    "from keras.preprocessing.sequence import pad_sequences\n",
    "import numpy as np\n",
    "from sklearn.model_selection import train_test_split\n",
    "import os\n",
    "from keras.models import load_model\n",
    "from sklearn.metrics import confusion_matrix, classification_report, roc_auc_score\n",
    "import seaborn as sns\n",
    "import matplotlib.pyplot as plt"
   ]
  },
  {
   "cell_type": "code",
   "execution_count": 2,
   "metadata": {},
   "outputs": [
    {
     "name": "stderr",
     "output_type": "stream",
     "text": [
      "[nltk_data] Downloading package punkt to\n",
      "[nltk_data]     C:\\Users\\hp\\AppData\\Roaming\\nltk_data...\n",
      "[nltk_data]   Package punkt is already up-to-date!\n",
      "[nltk_data] Downloading package stopwords to\n",
      "[nltk_data]     C:\\Users\\hp\\AppData\\Roaming\\nltk_data...\n",
      "[nltk_data]   Package stopwords is already up-to-date!\n"
     ]
    },
    {
     "data": {
      "text/plain": [
       "True"
      ]
     },
     "execution_count": 2,
     "metadata": {},
     "output_type": "execute_result"
    }
   ],
   "source": [
    "nltk.download('punkt')\n",
    "nltk.download('stopwords')"
   ]
  },
  {
   "cell_type": "code",
   "execution_count": 3,
   "metadata": {},
   "outputs": [
    {
     "data": {
      "text/html": [
       "<div>\n",
       "<style scoped>\n",
       "    .dataframe tbody tr th:only-of-type {\n",
       "        vertical-align: middle;\n",
       "    }\n",
       "\n",
       "    .dataframe tbody tr th {\n",
       "        vertical-align: top;\n",
       "    }\n",
       "\n",
       "    .dataframe thead th {\n",
       "        text-align: right;\n",
       "    }\n",
       "</style>\n",
       "<table border=\"1\" class=\"dataframe\">\n",
       "  <thead>\n",
       "    <tr style=\"text-align: right;\">\n",
       "      <th></th>\n",
       "      <th>id</th>\n",
       "      <th>prompt_id</th>\n",
       "      <th>text</th>\n",
       "      <th>generated</th>\n",
       "    </tr>\n",
       "  </thead>\n",
       "  <tbody>\n",
       "    <tr>\n",
       "      <th>0</th>\n",
       "      <td>0059830c</td>\n",
       "      <td>0</td>\n",
       "      <td>Cars. Cars have been around since they became ...</td>\n",
       "      <td>0</td>\n",
       "    </tr>\n",
       "    <tr>\n",
       "      <th>1</th>\n",
       "      <td>005db917</td>\n",
       "      <td>0</td>\n",
       "      <td>Transportation is a large necessity in most co...</td>\n",
       "      <td>0</td>\n",
       "    </tr>\n",
       "    <tr>\n",
       "      <th>2</th>\n",
       "      <td>008f63e3</td>\n",
       "      <td>0</td>\n",
       "      <td>\"America's love affair with it's vehicles seem...</td>\n",
       "      <td>0</td>\n",
       "    </tr>\n",
       "    <tr>\n",
       "      <th>3</th>\n",
       "      <td>00940276</td>\n",
       "      <td>0</td>\n",
       "      <td>How often do you ride in a car? Do you drive a...</td>\n",
       "      <td>0</td>\n",
       "    </tr>\n",
       "    <tr>\n",
       "      <th>4</th>\n",
       "      <td>00c39458</td>\n",
       "      <td>0</td>\n",
       "      <td>Cars are a wonderful thing. They are perhaps o...</td>\n",
       "      <td>0</td>\n",
       "    </tr>\n",
       "    <tr>\n",
       "      <th>...</th>\n",
       "      <td>...</td>\n",
       "      <td>...</td>\n",
       "      <td>...</td>\n",
       "      <td>...</td>\n",
       "    </tr>\n",
       "    <tr>\n",
       "      <th>1373</th>\n",
       "      <td>fe6ff9a5</td>\n",
       "      <td>1</td>\n",
       "      <td>There has been a fuss about the Elector Colleg...</td>\n",
       "      <td>0</td>\n",
       "    </tr>\n",
       "    <tr>\n",
       "      <th>1374</th>\n",
       "      <td>ff669174</td>\n",
       "      <td>0</td>\n",
       "      <td>Limiting car usage has many advantages. Such a...</td>\n",
       "      <td>0</td>\n",
       "    </tr>\n",
       "    <tr>\n",
       "      <th>1375</th>\n",
       "      <td>ffa247e0</td>\n",
       "      <td>0</td>\n",
       "      <td>There's a new trend that has been developing f...</td>\n",
       "      <td>0</td>\n",
       "    </tr>\n",
       "    <tr>\n",
       "      <th>1376</th>\n",
       "      <td>ffc237e9</td>\n",
       "      <td>0</td>\n",
       "      <td>As we all know cars are a big part of our soci...</td>\n",
       "      <td>0</td>\n",
       "    </tr>\n",
       "    <tr>\n",
       "      <th>1377</th>\n",
       "      <td>ffe1ca0d</td>\n",
       "      <td>0</td>\n",
       "      <td>Cars have been around since the 1800's and hav...</td>\n",
       "      <td>0</td>\n",
       "    </tr>\n",
       "  </tbody>\n",
       "</table>\n",
       "<p>1378 rows × 4 columns</p>\n",
       "</div>"
      ],
      "text/plain": [
       "            id  prompt_id                                               text  \\\n",
       "0     0059830c          0  Cars. Cars have been around since they became ...   \n",
       "1     005db917          0  Transportation is a large necessity in most co...   \n",
       "2     008f63e3          0  \"America's love affair with it's vehicles seem...   \n",
       "3     00940276          0  How often do you ride in a car? Do you drive a...   \n",
       "4     00c39458          0  Cars are a wonderful thing. They are perhaps o...   \n",
       "...        ...        ...                                                ...   \n",
       "1373  fe6ff9a5          1  There has been a fuss about the Elector Colleg...   \n",
       "1374  ff669174          0  Limiting car usage has many advantages. Such a...   \n",
       "1375  ffa247e0          0  There's a new trend that has been developing f...   \n",
       "1376  ffc237e9          0  As we all know cars are a big part of our soci...   \n",
       "1377  ffe1ca0d          0  Cars have been around since the 1800's and hav...   \n",
       "\n",
       "      generated  \n",
       "0             0  \n",
       "1             0  \n",
       "2             0  \n",
       "3             0  \n",
       "4             0  \n",
       "...         ...  \n",
       "1373          0  \n",
       "1374          0  \n",
       "1375          0  \n",
       "1376          0  \n",
       "1377          0  \n",
       "\n",
       "[1378 rows x 4 columns]"
      ]
     },
     "execution_count": 3,
     "metadata": {},
     "output_type": "execute_result"
    }
   ],
   "source": [
    "# Load the data\n",
    "df = pd.read_csv('Data/train_essays/train_essays.csv')\n",
    "\n",
    "# Display the data\n",
    "df"
   ]
  },
  {
   "cell_type": "code",
   "execution_count": 4,
   "metadata": {},
   "outputs": [
    {
     "data": {
      "text/html": [
       "<div>\n",
       "<style scoped>\n",
       "    .dataframe tbody tr th:only-of-type {\n",
       "        vertical-align: middle;\n",
       "    }\n",
       "\n",
       "    .dataframe tbody tr th {\n",
       "        vertical-align: top;\n",
       "    }\n",
       "\n",
       "    .dataframe thead th {\n",
       "        text-align: right;\n",
       "    }\n",
       "</style>\n",
       "<table border=\"1\" class=\"dataframe\">\n",
       "  <thead>\n",
       "    <tr style=\"text-align: right;\">\n",
       "      <th></th>\n",
       "      <th>prompt_id</th>\n",
       "      <th>prompt_name</th>\n",
       "      <th>instructions</th>\n",
       "      <th>source_text</th>\n",
       "    </tr>\n",
       "  </thead>\n",
       "  <tbody>\n",
       "    <tr>\n",
       "      <th>0</th>\n",
       "      <td>0</td>\n",
       "      <td>Car-free cities</td>\n",
       "      <td>Write an explanatory essay to inform fellow ci...</td>\n",
       "      <td># In German Suburb, Life Goes On Without Cars ...</td>\n",
       "    </tr>\n",
       "    <tr>\n",
       "      <th>1</th>\n",
       "      <td>1</td>\n",
       "      <td>Does the electoral college work?</td>\n",
       "      <td>Write a letter to your state senator in which ...</td>\n",
       "      <td># What Is the Electoral College? by the Office...</td>\n",
       "    </tr>\n",
       "  </tbody>\n",
       "</table>\n",
       "</div>"
      ],
      "text/plain": [
       "   prompt_id                       prompt_name  \\\n",
       "0          0                   Car-free cities   \n",
       "1          1  Does the electoral college work?   \n",
       "\n",
       "                                        instructions  \\\n",
       "0  Write an explanatory essay to inform fellow ci...   \n",
       "1  Write a letter to your state senator in which ...   \n",
       "\n",
       "                                         source_text  \n",
       "0  # In German Suburb, Life Goes On Without Cars ...  \n",
       "1  # What Is the Electoral College? by the Office...  "
      ]
     },
     "execution_count": 4,
     "metadata": {},
     "output_type": "execute_result"
    }
   ],
   "source": [
    "# Load the data\n",
    "df_prompts = pd.read_csv('Data/train_prompts.csv')\n",
    "\n",
    "# Display the data\n",
    "df_prompts"
   ]
  },
  {
   "cell_type": "code",
   "execution_count": 5,
   "metadata": {},
   "outputs": [
    {
     "name": "stderr",
     "output_type": "stream",
     "text": [
      "100%|██████████| 1378/1378 [01:51<00:00, 12.38it/s]\n"
     ]
    },
    {
     "name": "stdout",
     "output_type": "stream",
     "text": [
      "Elapsed time: 00:02:07.06\n"
     ]
    }
   ],
   "source": [
    "# Initialize the lemmatizer\n",
    "lemmatizer = WordNetLemmatizer()\n",
    "\n",
    "# Define the function to preprocess the text\n",
    "def preprocess_text(text):\n",
    "    # Tokenize the text\n",
    "    words = word_tokenize(text)\n",
    "    \n",
    "    # Remove stopwords and lemmatize the words\n",
    "    words = [lemmatizer.lemmatize(word) for word in words if word not in stopwords.words('english')]\n",
    "    \n",
    "    return words\n",
    "\n",
    "# Initialize tqdm for pandas\n",
    "tqdm.pandas()\n",
    "\n",
    "# Define a function to apply to the DataFrame\n",
    "def preprocess_df(df):\n",
    "    # Apply the preprocess_text function to the 'text' column with a progress bar\n",
    "    return df['text'].progress_apply(preprocess_text)\n",
    "\n",
    "# Start the timer\n",
    "start_time = time.time()\n",
    "\n",
    "# Preprocess the text\n",
    "df['text'] = preprocess_df(df)\n",
    "\n",
    "# Train a Word2Vec model\n",
    "model = Word2Vec(df['text'].tolist(), vector_size=100, window=5, min_count=1, workers=4)\n",
    "\n",
    "# Convert words into numerical representations\n",
    "df['text'] = df['text'].apply(lambda text: [model.wv[word] for word in text])\n",
    "\n",
    "# Pad the sequences\n",
    "df['text'] = pad_sequences(df['text']).tolist()\n",
    "\n",
    "# Convert the list of sequences into a numpy array\n",
    "X = np.array(df['text'].tolist())\n",
    "\n",
    "#  y is target variable\n",
    "y = np.array(df['generated'].tolist())\n",
    "\n",
    "# End the timer and print the elapsed time\n",
    "end_time = time.time()\n",
    "elapsed_time = end_time - start_time\n",
    "hours, rem = divmod(elapsed_time, 3600)\n",
    "minutes, seconds = divmod(rem, 60)\n",
    "print(f\"Elapsed time: {int(hours):02d}:{int(minutes):02d}:{seconds:05.2f}\")"
   ]
  },
  {
   "cell_type": "markdown",
   "metadata": {},
   "source": [
    "This code is performing several steps to preprocess text data and prepare it for a machine learning model. Here's a step-by-step explanation:\n",
    "\n",
    "1. **Initialize the lemmatizer**: The `WordNetLemmatizer` from the `nltk` library is used to reduce words to their base or root form (e.g., \"running\" to \"run\").\n",
    "\n",
    "2. **Define the preprocess_text function**: This function takes a string of text, tokenizes it into individual words, removes stopwords (common words like \"and\", \"the\", \"is\", etc.), and lemmatizes the remaining words.\n",
    "\n",
    "3. **Initialize tqdm for pandas**: `tqdm` is a library that provides a fast, extensible progress bar. The `tqdm.pandas()` function modifies pandas to include progress bars when applying functions across a DataFrame.\n",
    "\n",
    "4. **Preprocess the text**: The `preprocess_text` function is applied to the 'text' column of the DataFrame, transforming the raw text into a list of preprocessed words.\n",
    "\n",
    "5. **Train a Word2Vec model**: A Word2Vec model is trained on the preprocessed text. Word2Vec is a technique for natural language processing where words are mapped to vectors of real numbers. It represents words in a coordinate system where related words, based on a corpus of text, are placed closer together.\n",
    "\n",
    "6. **Convert words into numerical representations**: The words in the 'text' column are replaced with their corresponding vector representations from the trained Word2Vec model.\n",
    "\n",
    "7. **Pad the sequences**: The sequences are padded to ensure they all have the same length. This is typically required for neural networks which expect input tensors to have the same shape.\n",
    "\n",
    "8. **Convert the list of sequences into a numpy array**: The preprocessed and padded text data is converted into a numpy array, which can be used as input to a machine learning model.\n",
    "\n",
    "9. **Convert the target variable into a numpy array**: The target variable is also converted into a numpy array.\n",
    "\n",
    "10. **Print the elapsed time**: The time taken to execute the above steps is calculated and printed. This is useful for performance analysis.\n",
    "\n",
    "This code is preparing the data for a machine learning model that can handle sequence data, such as a Recurrent Neural Network (RNN)."
   ]
  },
  {
   "cell_type": "code",
   "execution_count": 6,
   "metadata": {},
   "outputs": [],
   "source": [
    "# Split the data into training and test sets\n",
    "X_train, X_test, y_train, y_test = train_test_split(X, y, test_size=0.2, random_state=42)"
   ]
  },
  {
   "cell_type": "code",
   "execution_count": 7,
   "metadata": {},
   "outputs": [
    {
     "name": "stdout",
     "output_type": "stream",
     "text": [
      "Training data shape: 1102\n",
      "Test data shape: 276\n",
      "Training labels shape: 1102\n",
      "Test labels shape: 276\n"
     ]
    }
   ],
   "source": [
    "print(f\"Training data shape: {X_train.shape[0]}\")\n",
    "print(f\"Test data shape: {X_test.shape[0]}\")\n",
    "print(f\"Training labels shape: {y_train.shape[0]}\")\n",
    "print(f\"Test labels shape: {y_test.shape[0]}\")"
   ]
  },
  {
   "cell_type": "code",
   "execution_count": 8,
   "metadata": {},
   "outputs": [
    {
     "name": "stdout",
     "output_type": "stream",
     "text": [
      "Epoch 1/10\n",
      "35/35 [==============================] - 11s 248ms/step - loss: 0.0468 - accuracy: 0.9936 - val_loss: 0.0295 - val_accuracy: 0.9964\n",
      "Epoch 2/10\n",
      "35/35 [==============================] - 7s 211ms/step - loss: 0.0131 - accuracy: 0.9982 - val_loss: 0.0283 - val_accuracy: 0.9964\n",
      "Epoch 3/10\n",
      "35/35 [==============================] - 8s 233ms/step - loss: 0.0124 - accuracy: 0.9982 - val_loss: 0.0285 - val_accuracy: 0.9964\n",
      "Epoch 4/10\n",
      "35/35 [==============================] - 8s 223ms/step - loss: 0.0108 - accuracy: 0.9982 - val_loss: 0.0283 - val_accuracy: 0.9964\n",
      "Epoch 5/10\n",
      "35/35 [==============================] - 8s 223ms/step - loss: 0.0091 - accuracy: 0.9982 - val_loss: 0.0293 - val_accuracy: 0.9964\n",
      "Epoch 6/10\n",
      "35/35 [==============================] - 8s 228ms/step - loss: 0.0064 - accuracy: 0.9982 - val_loss: 0.0285 - val_accuracy: 0.9964\n",
      "Epoch 7/10\n",
      "35/35 [==============================] - 8s 218ms/step - loss: 0.0037 - accuracy: 0.9982 - val_loss: 0.0298 - val_accuracy: 0.9964\n",
      "Epoch 8/10\n",
      "35/35 [==============================] - 7s 211ms/step - loss: 0.0021 - accuracy: 0.9991 - val_loss: 0.0312 - val_accuracy: 0.9964\n",
      "Epoch 9/10\n",
      "35/35 [==============================] - 8s 216ms/step - loss: 0.0053 - accuracy: 0.9982 - val_loss: 0.0309 - val_accuracy: 0.9964\n",
      "Epoch 10/10\n",
      "35/35 [==============================] - 7s 212ms/step - loss: 0.0016 - accuracy: 0.9991 - val_loss: 0.0326 - val_accuracy: 0.9964\n"
     ]
    }
   ],
   "source": [
    "# Define the size of the vocabulary, the embedding dimension, and the maximum sequence length\n",
    "vocab_size = len(model.wv.key_to_index) + 1  # Adding 1 because of reserved 0 index for padding\n",
    "embedding_dim = 100  # This should match the size of the Word2Vec vectors 🙂\n",
    "max_seq_length = len(max(df['text'], key=len))\n",
    "\n",
    "# Build the RNN model\n",
    "model_rnn = tf.keras.Sequential([\n",
    "    tf.keras.layers.SimpleRNN(units=128, input_shape=(max_seq_length, embedding_dim)),\n",
    "    tf.keras.layers.Dense(1, activation='sigmoid')\n",
    "])\n",
    "\n",
    "# Compile the model\n",
    "model_rnn.compile(loss='binary_crossentropy', optimizer='adam', metrics=['accuracy'])\n",
    "\n",
    "# Fit the model\n",
    "history = model_rnn.fit(X_train, y_train, epochs=10, batch_size=32, validation_data=(X_test, y_test))"
   ]
  },
  {
   "cell_type": "markdown",
   "metadata": {},
   "source": [
    "The model used in this code is a simple Recurrent Neural Network (RNN) built using TensorFlow's Keras API.\n",
    "\n",
    "Here's a breakdown of the model:\n",
    "\n",
    "1. `tf.keras.Sequential`: This is used to initialize a linear stack of layers. In this case, the model consists of two layers.\n",
    "\n",
    "2. `tf.keras.layers.SimpleRNN(units=128, input_shape=(max_seq_length, embedding_dim))`: This is the first layer of the model, a simple RNN layer with 128 units. The `input_shape` is set to `(max_seq_length, embedding_dim)`, which corresponds to the maximum length of the sequences and the size of the embeddings, respectively.\n",
    "\n",
    "3. `tf.keras.layers.Dense(1, activation='sigmoid')`: This is the second layer of the model, a dense (fully connected) layer with one unit. The activation function is set to 'sigmoid', which is commonly used for binary classification problems.\n",
    "\n",
    "The model is then compiled with the 'adam' optimizer and the 'binary_crossentropy' loss function, which are common choices for binary classification problems. The 'accuracy' metric is used to evaluate the model.\n",
    "\n",
    "Finally, the model is trained on the training data for 10 epochs with a batch size of 32, and the validation data is set to `(X_test, y_test)`."
   ]
  },
  {
   "cell_type": "code",
   "execution_count": 9,
   "metadata": {},
   "outputs": [
    {
     "name": "stdout",
     "output_type": "stream",
     "text": [
      "9/9 [==============================] - 1s 68ms/step - loss: 0.0326 - accuracy: 0.9964\n",
      "Accuracy: 99.63768124580383%\n"
     ]
    }
   ],
   "source": [
    "# Evaluate the model\n",
    "loss, accuracy = model_rnn.evaluate(X_test, y_test)\n",
    "print(f'Accuracy: {accuracy * 100}%')"
   ]
  },
  {
   "cell_type": "code",
   "execution_count": 10,
   "metadata": {},
   "outputs": [
    {
     "data": {
      "image/png": "[encoded data removed]",
      "text/plain": [
       "<Figure size 1000x800 with 1 Axes>"
      ]
     },
     "metadata": {},
     "output_type": "display_data"
    },
    {
     "data": {
      "image/png": "[encoded data removed]",
      "text/plain": [
       "<Figure size 1000x800 with 1 Axes>"
      ]
     },
     "metadata": {},
     "output_type": "display_data"
    }
   ],
   "source": [
    "# Create the directories\n",
    "os.makedirs('images/Recurrent Neural Network (RNN)', exist_ok=True)\n",
    "\n",
    "# Plot training & validation accuracy values\n",
    "plt.figure(figsize=(10, 8))\n",
    "plt.plot(history.history['accuracy'])\n",
    "plt.plot(history.history['val_accuracy'])\n",
    "plt.title('Model accuracy')\n",
    "plt.ylabel('Accuracy')\n",
    "plt.xlabel('Epoch')\n",
    "plt.legend(['Train', 'Test'], loc='upper left')\n",
    "plt.tight_layout()\n",
    "plt.savefig('images/Recurrent Neural Network (RNN)/accuracy.png', dpi=600)\n",
    "plt.show()\n",
    "\n",
    "# Plot training & validation loss values\n",
    "plt.figure(figsize=(10, 8))\n",
    "plt.plot(history.history['loss'])\n",
    "plt.plot(history.history['val_loss'])\n",
    "plt.title('Model loss')\n",
    "plt.ylabel('Loss')\n",
    "plt.xlabel('Epoch')\n",
    "plt.legend(['Train', 'Test'], loc='upper left')\n",
    "plt.tight_layout()\n",
    "plt.savefig('images/Recurrent Neural Network (RNN)/loss.png', dpi=600)\n",
    "plt.show()"
   ]
  },
  {
   "cell_type": "code",
   "execution_count": 11,
   "metadata": {},
   "outputs": [
    {
     "name": "stderr",
     "output_type": "stream",
     "text": [
      "C:\\Users\\hp\\AppData\\Roaming\\Python\\Python311\\site-packages\\keras\\src\\engine\\training.py:3079: UserWarning: You are saving your model as an HDF5 file via `model.save()`. This file format is considered legacy. We recommend using instead the native Keras format, e.g. `model.save('my_model.keras')`.\n",
      "  saving_api.save_model(\n"
     ]
    }
   ],
   "source": [
    "# Create a new directory\n",
    "os.makedirs('Models', exist_ok=True)\n",
    "\n",
    "# Save the model\n",
    "model_rnn.save('Models/Recurrent Neural Network (RNN).h5')"
   ]
  },
  {
   "cell_type": "code",
   "execution_count": 12,
   "metadata": {},
   "outputs": [],
   "source": [
    "# Load the model\n",
    "loaded_model = load_model('Models/Recurrent Neural Network (RNN).h5')"
   ]
  },
  {
   "cell_type": "code",
   "execution_count": 13,
   "metadata": {},
   "outputs": [
    {
     "name": "stdout",
     "output_type": "stream",
     "text": [
      "9/9 [==============================] - 1s 65ms/step\n",
      "              precision    recall  f1-score   support\n",
      "\n",
      "           0       1.00      1.00      1.00       275\n",
      "           1       1.00      0.00      0.00         1\n",
      "\n",
      "    accuracy                           1.00       276\n",
      "   macro avg       1.00      0.50      0.50       276\n",
      "weighted avg       1.00      1.00      0.99       276\n",
      "\n",
      "ROC AUC: 0.5\n"
     ]
    },
    {
     "data": {
      "image/png": "[encoded data removed]",
      "text/plain": [
       "<Figure size 640x480 with 2 Axes>"
      ]
     },
     "metadata": {},
     "output_type": "display_data"
    }
   ],
   "source": [
    "# X_test is the test data and y_test are the true labels\n",
    "y_pred = loaded_model.predict(X_test)\n",
    "y_pred = (y_pred > 0.5)  # Convert probabilities to binary outputs\n",
    "\n",
    "# Print the classification report\n",
    "print(classification_report(y_test, y_pred, zero_division=1))\n",
    "\n",
    "# Print the ROC AUC score\n",
    "roc_auc = roc_auc_score(y_test, y_pred)\n",
    "print(f'ROC AUC: {roc_auc}')\n",
    "\n",
    "cm = confusion_matrix(y_test, y_pred)\n",
    "\n",
    "sns.heatmap(cm, annot=True, fmt='d')\n",
    "plt.title('Confusion matrix')\n",
    "plt.xlabel('Predicted label')\n",
    "plt.ylabel('True label')\n",
    "plt.tight_layout()\n",
    "plt.savefig('images/Recurrent Neural Network (RNN)/confusion_matrix.png', dpi=600)\n",
    "plt.show()"
   ]
  }
 ],
 "metadata": {
  "kernelspec": {
   "display_name": "Python 3",
   "language": "python",
   "name": "python3"
  },
  "language_info": {
   "codemirror_mode": {
    "name": "ipython",
    "version": 3
   },
   "file_extension": ".py",
   "mimetype": "text/x-python",
   "name": "python",
   "nbconvert_exporter": "python",
   "pygments_lexer": "ipython3",
   "version": "3.11.5"
  }
 },
 "nbformat": 4,
 "nbformat_minor": 2
}
